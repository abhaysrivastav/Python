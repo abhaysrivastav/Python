{
  "nbformat": 4,
  "nbformat_minor": 0,
  "metadata": {
    "colab": {
      "name": "Exceptional_Handeling.ipynb",
      "provenance": [],
      "collapsed_sections": [],
      "include_colab_link": true
    },
    "kernelspec": {
      "name": "python3",
      "display_name": "Python 3"
    }
  },
  "cells": [
    {
      "cell_type": "markdown",
      "metadata": {
        "id": "view-in-github",
        "colab_type": "text"
      },
      "source": [
        "<a href=\"https://colab.research.google.com/github/abhaysrivastav/Python/blob/master/Exceptional_Handeling.ipynb\" target=\"_parent\"><img src=\"https://colab.research.google.com/assets/colab-badge.svg\" alt=\"Open In Colab\"/></a>"
      ]
    },
    {
      "cell_type": "markdown",
      "metadata": {
        "id": "ZWieMHALtb-S",
        "colab_type": "text"
      },
      "source": [
        "#Key Concepts\n",
        "* **Raise** an exception to interrupt program flow.\n",
        "* **Handle** an exception to resume the control.\n",
        "* **unhandled Exception** will terminate the program.\n",
        "* **Exception Object** contain information about the exception event.\n"
      ]
    },
    {
      "cell_type": "code",
      "metadata": {
        "id": "wgnrzHhl0Mua",
        "colab_type": "code",
        "colab": {}
      },
      "source": [
        "import sys\n",
        "\n",
        "def convert(s):\n",
        "  try:\n",
        "    return int(s)\n",
        "  except(ValueError, TypeError) as e:\n",
        "    print(\"Convert error : {}\".format(str(e)), file = sys.stderr)\n",
        "    return -1\n"
      ],
      "execution_count": 0,
      "outputs": []
    },
    {
      "cell_type": "code",
      "metadata": {
        "id": "CO-coVmG0LRY",
        "colab_type": "code",
        "colab": {
          "base_uri": "https://localhost:8080/",
          "height": 34
        },
        "outputId": "83ad913c-5a4b-4927-a0a3-07d8d746e3c3"
      },
      "source": [
        "convert(\"36\")"
      ],
      "execution_count": 6,
      "outputs": [
        {
          "output_type": "execute_result",
          "data": {
            "text/plain": [
              "36"
            ]
          },
          "metadata": {
            "tags": []
          },
          "execution_count": 6
        }
      ]
    },
    {
      "cell_type": "code",
      "metadata": {
        "id": "k4y4C_RT5t0O",
        "colab_type": "code",
        "colab": {
          "base_uri": "https://localhost:8080/",
          "height": 50
        },
        "outputId": "f687c7e2-6952-49ab-c6c9-4c2647264f4d"
      },
      "source": [
        "convert(\"Abhay\")"
      ],
      "execution_count": 7,
      "outputs": [
        {
          "output_type": "stream",
          "text": [
            "Convert error : invalid literal for int() with base 10: 'Abhay'\n"
          ],
          "name": "stderr"
        },
        {
          "output_type": "execute_result",
          "data": {
            "text/plain": [
              "-1"
            ]
          },
          "metadata": {
            "tags": []
          },
          "execution_count": 7
        }
      ]
    },
    {
      "cell_type": "markdown",
      "metadata": {
        "id": "dIUiQ_Ph74ho",
        "colab_type": "text"
      },
      "source": [
        "Use common or existing exception type when possible.\n",
        "* **IndexError**\n",
        "* **ValueError**\n",
        "* **KeyError** : Look-up in a mapping fails.\n"
      ]
    },
    {
      "cell_type": "markdown",
      "metadata": {
        "id": "YJJVe84E94ED",
        "colab_type": "text"
      },
      "source": [
        "* **finally** - block is executed no matter how the try-block exist."
      ]
    },
    {
      "cell_type": "markdown",
      "metadata": {
        "id": "fiK08BpD93xo",
        "colab_type": "text"
      },
      "source": [
        ""
      ]
    },
    {
      "cell_type": "code",
      "metadata": {
        "id": "RAPaIbBV5xK8",
        "colab_type": "code",
        "colab": {}
      },
      "source": [
        "import os\n",
        "\n",
        "def make_at(path, dir_name):\n",
        "  original_path = os.getcwd()\n",
        "  try:\n",
        "    os.chdir(path)\n",
        "    os.mkdir(dir_name)\n",
        "  finally:\n",
        "    os.chdir(original_path)"
      ],
      "execution_count": 0,
      "outputs": []
    },
    {
      "cell_type": "code",
      "metadata": {
        "id": "G5fJ5DGw-edA",
        "colab_type": "code",
        "colab": {}
      },
      "source": [
        ""
      ],
      "execution_count": 0,
      "outputs": []
    }
  ]
}