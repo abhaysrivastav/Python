{
 "cells": [
  {
   "cell_type": "markdown",
   "metadata": {
    "colab_type": "text",
    "id": "Ws57hCjq2U41"
   },
   "source": [
    "# Iteration protocol\n",
    "\n",
    "### Iterable Protocol:\n",
    "*Iterable objects can be passed to the built in **iter()** function to get an iterator.\n",
    "\n",
    "   **iterator = iter(iterable)**\n",
    "\n",
    "\n",
    "\n",
    "\n",
    "\n",
    "### Iterator Protocol\n",
    "*Iterator objects can be passed to the built-in next() function to fetch the next item.\n",
    "\n",
    "**item = next(iterator)**"
   ]
  },
  {
   "cell_type": "code",
   "execution_count": 0,
   "metadata": {
    "colab": {
     "base_uri": "https://localhost:8080/",
     "height": 34
    },
    "colab_type": "code",
    "id": "1QmyAg1v15Pb",
    "outputId": "768eb60d-b78d-45e1-fe58-8d611aa82604"
   },
   "outputs": [
    {
     "data": {
      "text/plain": [
       "'Spring'"
      ]
     },
     "execution_count": 1,
     "metadata": {
      "tags": []
     },
     "output_type": "execute_result"
    }
   ],
   "source": [
    "iterable = ['Spring', 'Summer', 'Autumn', 'Winter']\n",
    "iterator = iter(iterable)\n",
    "next(iterator)"
   ]
  },
  {
   "cell_type": "markdown",
   "metadata": {
    "colab_type": "text",
    "id": "O1C50ADJ5nlu"
   },
   "source": [
    "# Generators in Python"
   ]
  },
  {
   "cell_type": "markdown",
   "metadata": {
    "colab_type": "text",
    "id": "xVnxWs8_5w-N"
   },
   "source": [
    "* **Specify iterable sequences.** \n",
    "  > *All generators are iterators*.\n",
    "\n",
    "* **Are lazily evaluated**\n",
    " > *The next value in the sequence is computed on demand.*\n",
    "\n",
    "* **can model infinite sequences.**\n",
    "  > *such as data strem with no definite end.* \n",
    "\n",
    "* **Are composed into pipelines.**\n",
    " > *for natural stream processing*"
   ]
  },
  {
   "cell_type": "code",
   "execution_count": 0,
   "metadata": {
    "colab": {},
    "colab_type": "code",
    "id": "VN88g51Y5LoJ"
   },
   "outputs": [],
   "source": [
    "def gen123():\n",
    "  yield 1\n",
    "  yield 2\n",
    "  yield 3"
   ]
  },
  {
   "cell_type": "code",
   "execution_count": 0,
   "metadata": {
    "colab": {
     "base_uri": "https://localhost:8080/",
     "height": 34
    },
    "colab_type": "code",
    "id": "KI9dRL_j8uI7",
    "outputId": "3041d04e-a6ae-4719-ef21-4458ef0d5921"
   },
   "outputs": [
    {
     "data": {
      "text/plain": [
       "<generator object gen123 at 0x7f0d5f0b5f68>"
      ]
     },
     "execution_count": 4,
     "metadata": {
      "tags": []
     },
     "output_type": "execute_result"
    }
   ],
   "source": [
    "g = gen123()\n",
    "g"
   ]
  },
  {
   "cell_type": "code",
   "execution_count": 0,
   "metadata": {
    "colab": {
     "base_uri": "https://localhost:8080/",
     "height": 34
    },
    "colab_type": "code",
    "id": "aVhfktCV8xqm",
    "outputId": "3dc4852e-a4fd-45c6-d76c-44058f91529d"
   },
   "outputs": [
    {
     "data": {
      "text/plain": [
       "1"
      ]
     },
     "execution_count": 6,
     "metadata": {
      "tags": []
     },
     "output_type": "execute_result"
    }
   ],
   "source": [
    "next(g)"
   ]
  },
  {
   "cell_type": "code",
   "execution_count": 0,
   "metadata": {
    "colab": {
     "base_uri": "https://localhost:8080/",
     "height": 34
    },
    "colab_type": "code",
    "id": "eOZN3CJQ83wn",
    "outputId": "f488deaa-14b5-4592-9bb9-47e9097c7d7e"
   },
   "outputs": [
    {
     "data": {
      "text/plain": [
       "2"
      ]
     },
     "execution_count": 7,
     "metadata": {
      "tags": []
     },
     "output_type": "execute_result"
    }
   ],
   "source": [
    "next(g)"
   ]
  },
  {
   "cell_type": "code",
   "execution_count": 0,
   "metadata": {
    "colab": {
     "base_uri": "https://localhost:8080/",
     "height": 34
    },
    "colab_type": "code",
    "id": "muQxiar-883f",
    "outputId": "1a2140d4-2adc-4fab-bda0-ada57215ea21"
   },
   "outputs": [
    {
     "data": {
      "text/plain": [
       "3"
      ]
     },
     "execution_count": 8,
     "metadata": {
      "tags": []
     },
     "output_type": "execute_result"
    }
   ],
   "source": [
    "next(g)"
   ]
  },
  {
   "cell_type": "code",
   "execution_count": 0,
   "metadata": {
    "colab": {
     "base_uri": "https://localhost:8080/",
     "height": 67
    },
    "colab_type": "code",
    "id": "yumVUg1v8-3G",
    "outputId": "4e12454d-7890-46cb-9f9e-ad5d0081e656"
   },
   "outputs": [
    {
     "name": "stdout",
     "output_type": "stream",
     "text": [
      "1\n",
      "2\n",
      "3\n"
     ]
    }
   ],
   "source": [
    "for v in gen123():\n",
    "  print(v)"
   ]
  },
  {
   "cell_type": "code",
   "execution_count": 0,
   "metadata": {
    "colab": {
     "base_uri": "https://localhost:8080/",
     "height": 34
    },
    "colab_type": "code",
    "id": "-0NFhxi-9Td4",
    "outputId": "4f1fc3a2-4bc7-40ec-d012-54ded8ee4158"
   },
   "outputs": [
    {
     "data": {
      "text/plain": [
       "[1, 2, 3]"
      ]
     },
     "execution_count": 11,
     "metadata": {
      "tags": []
     },
     "output_type": "execute_result"
    }
   ],
   "source": [
    "[v for v in gen123()]"
   ]
  },
  {
   "cell_type": "markdown",
   "metadata": {
    "colab_type": "text",
    "id": "E0DQk_U7S3f8"
   },
   "source": [
    "* Generators resumes the execution\n",
    "* Can maintain state in local variable.\n",
    "* Complex control flow.\n",
    "* lazy evalution."
   ]
  },
  {
   "cell_type": "code",
   "execution_count": 12,
   "metadata": {
    "colab": {},
    "colab_type": "code",
    "id": "4ZEc7wxc9cRo"
   },
   "outputs": [],
   "source": [
    "def take(count, itearble):\n",
    "    counter = 0 \n",
    "    for item in itearble:\n",
    "        if counter == count:\n",
    "            return\n",
    "        counter +=1\n",
    "        yield item\n",
    "\n",
    "def run_take():\n",
    "    items = [2, 4, 6, 8, 10]\n",
    "    for item in take(3, items):\n",
    "        print(item)\n"
   ]
  },
  {
   "cell_type": "code",
   "execution_count": 13,
   "metadata": {},
   "outputs": [
    {
     "name": "stdout",
     "output_type": "stream",
     "text": [
      "2\n",
      "4\n",
      "6\n"
     ]
    }
   ],
   "source": [
    "run_take()"
   ]
  },
  {
   "cell_type": "code",
   "execution_count": 16,
   "metadata": {},
   "outputs": [],
   "source": [
    "def distinct(iterable):\n",
    "    seen = set()\n",
    "    for item in iterable:\n",
    "        if item in seen:\n",
    "            continue\n",
    "        yield item\n",
    "        seen.add(item)\n",
    "    \n",
    "def run_distinct():\n",
    "    items = [2, 4, 6, 6, 7, 9, 7, 2]\n",
    "    for item in distinct(items):\n",
    "        print(item)"
   ]
  },
  {
   "cell_type": "code",
   "execution_count": 17,
   "metadata": {},
   "outputs": [
    {
     "name": "stdout",
     "output_type": "stream",
     "text": [
      "2\n",
      "4\n",
      "6\n",
      "7\n",
      "9\n"
     ]
    }
   ],
   "source": [
    "run_distinct()"
   ]
  },
  {
   "cell_type": "code",
   "execution_count": null,
   "metadata": {},
   "outputs": [],
   "source": []
  },
  {
   "cell_type": "markdown",
   "metadata": {},
   "source": [
    "* Generators are single used object."
   ]
  },
  {
   "cell_type": "code",
   "execution_count": null,
   "metadata": {},
   "outputs": [],
   "source": []
  }
 ],
 "metadata": {
  "colab": {
   "collapsed_sections": [],
   "name": "Iterable.ipynb",
   "provenance": []
  },
  "kernelspec": {
   "display_name": "Python 3",
   "language": "python",
   "name": "python3"
  },
  "language_info": {
   "codemirror_mode": {
    "name": "ipython",
    "version": 3
   },
   "file_extension": ".py",
   "mimetype": "text/x-python",
   "name": "python",
   "nbconvert_exporter": "python",
   "pygments_lexer": "ipython3",
   "version": "3.7.1"
  }
 },
 "nbformat": 4,
 "nbformat_minor": 1
}
