{
  "nbformat": 4,
  "nbformat_minor": 0,
  "metadata": {
    "colab": {
      "name": "Iterable.ipynb",
      "provenance": [],
      "collapsed_sections": [],
      "include_colab_link": true
    },
    "kernelspec": {
      "name": "python3",
      "display_name": "Python 3"
    }
  },
  "cells": [
    {
      "cell_type": "markdown",
      "metadata": {
        "id": "view-in-github",
        "colab_type": "text"
      },
      "source": [
        "<a href=\"https://colab.research.google.com/github/abhaysrivastav/Python/blob/master/Iterable.ipynb\" target=\"_parent\"><img src=\"https://colab.research.google.com/assets/colab-badge.svg\" alt=\"Open In Colab\"/></a>"
      ]
    },
    {
      "cell_type": "markdown",
      "metadata": {
        "id": "Ws57hCjq2U41",
        "colab_type": "text"
      },
      "source": [
        "# Iteration protocol\n",
        "\n",
        "### Iterable Protocol:\n",
        "*Iterable objects can be passed to the built in **iter()** function to get an iterator.\n",
        "\n",
        "   **iterator = iter(iterable)**\n",
        "\n",
        "\n",
        "\n",
        "\n",
        "\n",
        "### Iterator Protocol\n",
        "*Iterator objects can be passed to the built-in next() function to fetch the next item.\n",
        "\n",
        "**item = next(iterator)**"
      ]
    },
    {
      "cell_type": "code",
      "metadata": {
        "id": "1QmyAg1v15Pb",
        "colab_type": "code",
        "colab": {
          "base_uri": "https://localhost:8080/",
          "height": 34
        },
        "outputId": "768eb60d-b78d-45e1-fe58-8d611aa82604"
      },
      "source": [
        "iterable = ['Spring', 'Summer', 'Autumn', 'Winter']\n",
        "iterator = iter(iterable)\n",
        "next(iterator)"
      ],
      "execution_count": 1,
      "outputs": [
        {
          "output_type": "execute_result",
          "data": {
            "text/plain": [
              "'Spring'"
            ]
          },
          "metadata": {
            "tags": []
          },
          "execution_count": 1
        }
      ]
    },
    {
      "cell_type": "markdown",
      "metadata": {
        "id": "O1C50ADJ5nlu",
        "colab_type": "text"
      },
      "source": [
        "# Generators in Python"
      ]
    },
    {
      "cell_type": "markdown",
      "metadata": {
        "id": "xVnxWs8_5w-N",
        "colab_type": "text"
      },
      "source": [
        "* **Specify iterable sequences.** \n",
        "  > *All generators are iterators*.\n",
        "\n",
        "* **Are lazily evaluated**\n",
        " > *The next value in the sequence is computed on demand.*\n",
        "\n",
        "* **can model infinite sequences.**\n",
        "  > *such as data strem with no definite end.* \n",
        "\n",
        "* **Are composed into pipelines.**\n",
        " > *for natural stream processing*"
      ]
    },
    {
      "cell_type": "code",
      "metadata": {
        "id": "VN88g51Y5LoJ",
        "colab_type": "code",
        "colab": {}
      },
      "source": [
        "def gen123():\n",
        "  yield 1\n",
        "  yield 2\n",
        "  yield 3"
      ],
      "execution_count": 0,
      "outputs": []
    },
    {
      "cell_type": "code",
      "metadata": {
        "id": "KI9dRL_j8uI7",
        "colab_type": "code",
        "colab": {
          "base_uri": "https://localhost:8080/",
          "height": 34
        },
        "outputId": "3041d04e-a6ae-4719-ef21-4458ef0d5921"
      },
      "source": [
        "g = gen123()\n",
        "g"
      ],
      "execution_count": 4,
      "outputs": [
        {
          "output_type": "execute_result",
          "data": {
            "text/plain": [
              "<generator object gen123 at 0x7f0d5f0b5f68>"
            ]
          },
          "metadata": {
            "tags": []
          },
          "execution_count": 4
        }
      ]
    },
    {
      "cell_type": "code",
      "metadata": {
        "id": "aVhfktCV8xqm",
        "colab_type": "code",
        "colab": {
          "base_uri": "https://localhost:8080/",
          "height": 34
        },
        "outputId": "3dc4852e-a4fd-45c6-d76c-44058f91529d"
      },
      "source": [
        "next(g)"
      ],
      "execution_count": 6,
      "outputs": [
        {
          "output_type": "execute_result",
          "data": {
            "text/plain": [
              "1"
            ]
          },
          "metadata": {
            "tags": []
          },
          "execution_count": 6
        }
      ]
    },
    {
      "cell_type": "code",
      "metadata": {
        "id": "eOZN3CJQ83wn",
        "colab_type": "code",
        "colab": {
          "base_uri": "https://localhost:8080/",
          "height": 34
        },
        "outputId": "f488deaa-14b5-4592-9bb9-47e9097c7d7e"
      },
      "source": [
        "next(g)"
      ],
      "execution_count": 7,
      "outputs": [
        {
          "output_type": "execute_result",
          "data": {
            "text/plain": [
              "2"
            ]
          },
          "metadata": {
            "tags": []
          },
          "execution_count": 7
        }
      ]
    },
    {
      "cell_type": "code",
      "metadata": {
        "id": "muQxiar-883f",
        "colab_type": "code",
        "colab": {
          "base_uri": "https://localhost:8080/",
          "height": 34
        },
        "outputId": "1a2140d4-2adc-4fab-bda0-ada57215ea21"
      },
      "source": [
        "next(g)"
      ],
      "execution_count": 8,
      "outputs": [
        {
          "output_type": "execute_result",
          "data": {
            "text/plain": [
              "3"
            ]
          },
          "metadata": {
            "tags": []
          },
          "execution_count": 8
        }
      ]
    },
    {
      "cell_type": "code",
      "metadata": {
        "id": "yumVUg1v8-3G",
        "colab_type": "code",
        "colab": {
          "base_uri": "https://localhost:8080/",
          "height": 67
        },
        "outputId": "4e12454d-7890-46cb-9f9e-ad5d0081e656"
      },
      "source": [
        "for v in gen123():\n",
        "  print(v)"
      ],
      "execution_count": 9,
      "outputs": [
        {
          "output_type": "stream",
          "text": [
            "1\n",
            "2\n",
            "3\n"
          ],
          "name": "stdout"
        }
      ]
    },
    {
      "cell_type": "code",
      "metadata": {
        "id": "-0NFhxi-9Td4",
        "colab_type": "code",
        "colab": {
          "base_uri": "https://localhost:8080/",
          "height": 34
        },
        "outputId": "4f1fc3a2-4bc7-40ec-d012-54ded8ee4158"
      },
      "source": [
        "[v for v in gen123()]"
      ],
      "execution_count": 11,
      "outputs": [
        {
          "output_type": "execute_result",
          "data": {
            "text/plain": [
              "[1, 2, 3]"
            ]
          },
          "metadata": {
            "tags": []
          },
          "execution_count": 11
        }
      ]
    },
    {
      "cell_type": "code",
      "metadata": {
        "id": "4ZEc7wxc9cRo",
        "colab_type": "code",
        "colab": {}
      },
      "source": [
        ""
      ],
      "execution_count": 0,
      "outputs": []
    }
  ]
}