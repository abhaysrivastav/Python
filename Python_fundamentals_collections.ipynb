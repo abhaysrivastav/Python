{
  "nbformat": 4,
  "nbformat_minor": 0,
  "metadata": {
    "colab": {
      "name": "Python_fundamentals_collections.ipynb",
      "provenance": [],
      "collapsed_sections": [],
      "include_colab_link": true
    },
    "kernelspec": {
      "name": "python3",
      "display_name": "Python 3"
    }
  },
  "cells": [
    {
      "cell_type": "markdown",
      "metadata": {
        "id": "view-in-github",
        "colab_type": "text"
      },
      "source": [
        "<a href=\"https://colab.research.google.com/github/abhaysrivastav/Python/blob/master/Python_fundamentals_collections.ipynb\" target=\"_parent\"><img src=\"https://colab.research.google.com/assets/colab-badge.svg\" alt=\"Open In Colab\"/></a>"
      ]
    },
    {
      "cell_type": "code",
      "metadata": {
        "id": "yXu53efhgzNr",
        "colab_type": "code",
        "outputId": "04fbac25-f554-49ab-9ed2-24589d2a72f3",
        "colab": {
          "base_uri": "https://localhost:8080/",
          "height": 34
        }
      },
      "source": [
        "list(range(5, 10))"
      ],
      "execution_count": 0,
      "outputs": [
        {
          "output_type": "execute_result",
          "data": {
            "text/plain": [
              "[5, 6, 7, 8, 9]"
            ]
          },
          "metadata": {
            "tags": []
          },
          "execution_count": 2
        }
      ]
    },
    {
      "cell_type": "code",
      "metadata": {
        "id": "r0pnkbYwiY1A",
        "colab_type": "code",
        "outputId": "4ee3b850-0b3b-4bd7-d92a-5caf38b2b289",
        "colab": {
          "base_uri": "https://localhost:8080/",
          "height": 34
        }
      },
      "source": [
        "list(range(0, 10, 2))"
      ],
      "execution_count": 0,
      "outputs": [
        {
          "output_type": "execute_result",
          "data": {
            "text/plain": [
              "[0, 2, 4, 6, 8]"
            ]
          },
          "metadata": {
            "tags": []
          },
          "execution_count": 3
        }
      ]
    },
    {
      "cell_type": "code",
      "metadata": {
        "id": "7ZE8qM68jkBf",
        "colab_type": "code",
        "colab": {}
      },
      "source": [
        ""
      ],
      "execution_count": 0,
      "outputs": []
    },
    {
      "cell_type": "markdown",
      "metadata": {
        "id": "P4GISTXZkArh",
        "colab_type": "text"
      },
      "source": [
        "### Not using the range use enumerate\n",
        "  > Prefer enumerate() for counters.\n",
        "  >\n",
        "  > enumerate() yields (index, value) tuple"
      ]
    },
    {
      "cell_type": "code",
      "metadata": {
        "id": "Ll0hZ9KuixA1",
        "colab_type": "code",
        "outputId": "01469f8e-fa97-4dfb-83ea-0ef56a58ae9c",
        "colab": {
          "base_uri": "https://localhost:8080/",
          "height": 101
        }
      },
      "source": [
        "t = [9, 372, 882, 148800, 2096886]\n",
        "for p in enumerate(t):\n",
        "  print(p)"
      ],
      "execution_count": 0,
      "outputs": [
        {
          "output_type": "stream",
          "text": [
            "(0, 9)\n",
            "(1, 372)\n",
            "(2, 882)\n",
            "(3, 148800)\n",
            "(4, 2096886)\n"
          ],
          "name": "stdout"
        }
      ]
    },
    {
      "cell_type": "code",
      "metadata": {
        "id": "ULNt5jrTkoR5",
        "colab_type": "code",
        "outputId": "1af5d573-ad0d-4093-a986-c9628e932272",
        "colab": {
          "base_uri": "https://localhost:8080/",
          "height": 101
        }
      },
      "source": [
        "for i , v in enumerate(t):\n",
        "  print(\"i = {}, y = {}\".format(i, v))"
      ],
      "execution_count": 0,
      "outputs": [
        {
          "output_type": "stream",
          "text": [
            "i = 0, y = 9\n",
            "i = 1, y = 372\n",
            "i = 2, y = 882\n",
            "i = 3, y = 148800\n",
            "i = 4, y = 2096886\n"
          ],
          "name": "stdout"
        }
      ]
    },
    {
      "cell_type": "code",
      "metadata": {
        "id": "1ElIuFWTk7y4",
        "colab_type": "code",
        "colab": {}
      },
      "source": [
        ""
      ],
      "execution_count": 0,
      "outputs": []
    },
    {
      "cell_type": "markdown",
      "metadata": {
        "id": "9A7yy_tol2Hg",
        "colab_type": "text"
      },
      "source": [
        "# list:\n",
        "heterogenous mutable sequence"
      ]
    },
    {
      "cell_type": "code",
      "metadata": {
        "id": "AFVWVHrgly-T",
        "colab_type": "code",
        "outputId": "7392d22c-44f6-4f90-bca4-04e1a7f35c35",
        "colab": {
          "base_uri": "https://localhost:8080/",
          "height": 34
        }
      },
      "source": [
        "s = \"Show how to index into sequence\".split()\n",
        "s"
      ],
      "execution_count": 0,
      "outputs": [
        {
          "output_type": "execute_result",
          "data": {
            "text/plain": [
              "['Show', 'how', 'to', 'index', 'into', 'sequence']"
            ]
          },
          "metadata": {
            "tags": []
          },
          "execution_count": 6
        }
      ]
    },
    {
      "cell_type": "markdown",
      "metadata": {
        "id": "R0iwTpSjma6B",
        "colab_type": "text"
      },
      "source": [
        "* Negative integers index from the end\n",
        "* The last element is the index -1\n",
        "* Avoid seq[len(seq)-1]\n",
        "* Slicing extract part of list.\n",
        "* slice = seq[start:stop].\n",
        "* Omitting the start index slices from the beginning.\n"
      ]
    },
    {
      "cell_type": "code",
      "metadata": {
        "id": "RYJIEVI60Nms",
        "colab_type": "code",
        "outputId": "b84ae558-faa1-4c27-b461-3d64a838c9a3",
        "colab": {
          "base_uri": "https://localhost:8080/",
          "height": 34
        }
      },
      "source": [
        "s[4]"
      ],
      "execution_count": 0,
      "outputs": [
        {
          "output_type": "execute_result",
          "data": {
            "text/plain": [
              "'into'"
            ]
          },
          "metadata": {
            "tags": []
          },
          "execution_count": 7
        }
      ]
    },
    {
      "cell_type": "code",
      "metadata": {
        "id": "ACoCgvSt0Vhm",
        "colab_type": "code",
        "outputId": "6084ae47-e456-4f83-ecea-c4c01f1d3a27",
        "colab": {
          "base_uri": "https://localhost:8080/",
          "height": 34
        }
      },
      "source": [
        "s[:3]"
      ],
      "execution_count": 0,
      "outputs": [
        {
          "output_type": "execute_result",
          "data": {
            "text/plain": [
              "['Show', 'how', 'to']"
            ]
          },
          "metadata": {
            "tags": []
          },
          "execution_count": 8
        }
      ]
    },
    {
      "cell_type": "code",
      "metadata": {
        "id": "FDacenfs1fXB",
        "colab_type": "code",
        "outputId": "c5e49ec6-f6af-4972-a93d-748d814bc656",
        "colab": {
          "base_uri": "https://localhost:8080/",
          "height": 34
        }
      },
      "source": [
        "s[3:]"
      ],
      "execution_count": 0,
      "outputs": [
        {
          "output_type": "execute_result",
          "data": {
            "text/plain": [
              "['index', 'into', 'sequence']"
            ]
          },
          "metadata": {
            "tags": []
          },
          "execution_count": 9
        }
      ]
    },
    {
      "cell_type": "code",
      "metadata": {
        "id": "D4rLlM4m1in3",
        "colab_type": "code",
        "outputId": "eb09de5d-7f97-4c00-9a1b-e69222c85c96",
        "colab": {
          "base_uri": "https://localhost:8080/",
          "height": 34
        }
      },
      "source": [
        "full_slic = s[:] # important idiom for coping the list\n",
        "full_slic"
      ],
      "execution_count": 0,
      "outputs": [
        {
          "output_type": "execute_result",
          "data": {
            "text/plain": [
              "['Show', 'how', 'to', 'index', 'into', 'sequence']"
            ]
          },
          "metadata": {
            "tags": []
          },
          "execution_count": 10
        }
      ]
    },
    {
      "cell_type": "code",
      "metadata": {
        "id": "7cpoPZW34mkz",
        "colab_type": "code",
        "colab": {}
      },
      "source": [
        "u = s.copy()"
      ],
      "execution_count": 0,
      "outputs": []
    },
    {
      "cell_type": "code",
      "metadata": {
        "id": "Poermnal5DXJ",
        "colab_type": "code",
        "outputId": "3721d7ba-caf3-4809-b3d8-044c42bb952a",
        "colab": {
          "base_uri": "https://localhost:8080/",
          "height": 34
        }
      },
      "source": [
        "u is s"
      ],
      "execution_count": 0,
      "outputs": [
        {
          "output_type": "execute_result",
          "data": {
            "text/plain": [
              "False"
            ]
          },
          "metadata": {
            "tags": []
          },
          "execution_count": 12
        }
      ]
    },
    {
      "cell_type": "markdown",
      "metadata": {
        "id": "GSEZqou0C6G7",
        "colab_type": "text"
      },
      "source": [
        ""
      ]
    },
    {
      "cell_type": "markdown",
      "metadata": {
        "id": "onBifQYl5cn9",
        "colab_type": "text"
      },
      "source": [
        "* Copies are shallow.\n",
        "* Repeat the list using the * opereator.\n"
      ]
    },
    {
      "cell_type": "markdown",
      "metadata": {
        "id": "uaIKtH5ZDlM3",
        "colab_type": "text"
      },
      "source": [
        "* Repetition is shallow"
      ]
    },
    {
      "cell_type": "code",
      "metadata": {
        "id": "6Tx84_XE5fSZ",
        "colab_type": "code",
        "outputId": "eec0d70a-49e8-4288-e5ef-f67bfbfc87e0",
        "colab": {
          "base_uri": "https://localhost:8080/",
          "height": 34
        }
      },
      "source": [
        "c = [21, 37]\n",
        "d = c*4\n",
        "d"
      ],
      "execution_count": 0,
      "outputs": [
        {
          "output_type": "execute_result",
          "data": {
            "text/plain": [
              "[21, 37, 21, 37, 21, 37, 21, 37]"
            ]
          },
          "metadata": {
            "tags": []
          },
          "execution_count": 13
        }
      ]
    },
    {
      "cell_type": "markdown",
      "metadata": {
        "id": "P0TlQxOUEJru",
        "colab_type": "text"
      },
      "source": [
        " * **index(item)** returns the integer index of the first equivalent element raises\n",
        " * **ValueError** if not found\n",
        " * **count(item)** returns the no of matching elements.\n",
        " * **in** and **not in** operate test for membership."
      ]
    },
    {
      "cell_type": "code",
      "metadata": {
        "id": "ff1kkZiQDOZL",
        "colab_type": "code",
        "outputId": "cf1a524a-ee38-4c6f-96d7-8bca750cfc18",
        "colab": {
          "base_uri": "https://localhost:8080/",
          "height": 34
        }
      },
      "source": [
        "w = \"My name is khan and I am not a terrorist\".split()\n",
        "w"
      ],
      "execution_count": 0,
      "outputs": [
        {
          "output_type": "execute_result",
          "data": {
            "text/plain": [
              "['My', 'name', 'is', 'khan', 'and', 'I', 'am', 'not', 'a', 'terrorist']"
            ]
          },
          "metadata": {
            "tags": []
          },
          "execution_count": 14
        }
      ]
    },
    {
      "cell_type": "code",
      "metadata": {
        "id": "nnQ01QLaEdMp",
        "colab_type": "code",
        "outputId": "37b340b8-2803-43ab-ad71-6f141a7f6ef4",
        "colab": {
          "base_uri": "https://localhost:8080/",
          "height": 34
        }
      },
      "source": [
        "w.index(\"khan\")"
      ],
      "execution_count": 0,
      "outputs": [
        {
          "output_type": "execute_result",
          "data": {
            "text/plain": [
              "3"
            ]
          },
          "metadata": {
            "tags": []
          },
          "execution_count": 15
        }
      ]
    },
    {
      "cell_type": "code",
      "metadata": {
        "id": "Lsovzq0mEiMv",
        "colab_type": "code",
        "outputId": "a7f55ceb-5889-4b0c-d2b3-915516255239",
        "colab": {
          "base_uri": "https://localhost:8080/",
          "height": 34
        }
      },
      "source": [
        "w[3]"
      ],
      "execution_count": 0,
      "outputs": [
        {
          "output_type": "execute_result",
          "data": {
            "text/plain": [
              "'khan'"
            ]
          },
          "metadata": {
            "tags": []
          },
          "execution_count": 16
        }
      ]
    },
    {
      "cell_type": "markdown",
      "metadata": {
        "id": "gDyT128NEsf6",
        "colab_type": "text"
      },
      "source": [
        ""
      ]
    },
    {
      "cell_type": "code",
      "metadata": {
        "id": "uzDG4qHSEmG_",
        "colab_type": "code",
        "outputId": "ce3408a7-8636-45f6-971a-9e6f00a2ff9e",
        "colab": {
          "base_uri": "https://localhost:8080/",
          "height": 34
        }
      },
      "source": [
        "w.count('am')"
      ],
      "execution_count": 0,
      "outputs": [
        {
          "output_type": "execute_result",
          "data": {
            "text/plain": [
              "1"
            ]
          },
          "metadata": {
            "tags": []
          },
          "execution_count": 17
        }
      ]
    },
    {
      "cell_type": "code",
      "metadata": {
        "id": "lYlkMdWWF1mm",
        "colab_type": "code",
        "outputId": "a6b8b093-5e23-40dc-b68e-eb9913827e68",
        "colab": {
          "base_uri": "https://localhost:8080/",
          "height": 34
        }
      },
      "source": [
        "'khan' in w"
      ],
      "execution_count": 0,
      "outputs": [
        {
          "output_type": "execute_result",
          "data": {
            "text/plain": [
              "True"
            ]
          },
          "metadata": {
            "tags": []
          },
          "execution_count": 18
        }
      ]
    },
    {
      "cell_type": "code",
      "metadata": {
        "id": "jHFYgtUiGL8x",
        "colab_type": "code",
        "outputId": "4789a75b-f3a4-49ad-ef42-54758657d388",
        "colab": {
          "base_uri": "https://localhost:8080/",
          "height": 34
        }
      },
      "source": [
        "'Abhay' not in w"
      ],
      "execution_count": 0,
      "outputs": [
        {
          "output_type": "execute_result",
          "data": {
            "text/plain": [
              "True"
            ]
          },
          "metadata": {
            "tags": []
          },
          "execution_count": 19
        }
      ]
    },
    {
      "cell_type": "code",
      "metadata": {
        "id": "ViSLgeRwGPce",
        "colab_type": "code",
        "colab": {}
      },
      "source": [
        "del w[3]"
      ],
      "execution_count": 0,
      "outputs": []
    },
    {
      "cell_type": "code",
      "metadata": {
        "id": "ligmQAdLGbbG",
        "colab_type": "code",
        "outputId": "233d2539-e04b-4754-e218-68f400c7e9ac",
        "colab": {
          "base_uri": "https://localhost:8080/",
          "height": 34
        }
      },
      "source": [
        "w"
      ],
      "execution_count": 0,
      "outputs": [
        {
          "output_type": "execute_result",
          "data": {
            "text/plain": [
              "['My', 'name', 'is', 'and', 'I', 'am', 'not', 'a', 'terrorist']"
            ]
          },
          "metadata": {
            "tags": []
          },
          "execution_count": 21
        }
      ]
    },
    {
      "cell_type": "code",
      "metadata": {
        "id": "K-Jwa38HGcXn",
        "colab_type": "code",
        "colab": {}
      },
      "source": [
        "w.remove('name')"
      ],
      "execution_count": 0,
      "outputs": []
    },
    {
      "cell_type": "code",
      "metadata": {
        "id": "6QYTbkjJGl8X",
        "colab_type": "code",
        "outputId": "8c6aa401-cf80-401a-91c2-0087b9acc524",
        "colab": {
          "base_uri": "https://localhost:8080/",
          "height": 34
        }
      },
      "source": [
        "w"
      ],
      "execution_count": 0,
      "outputs": [
        {
          "output_type": "execute_result",
          "data": {
            "text/plain": [
              "['My', 'is', 'and', 'I', 'am', 'not', 'a', 'terrorist']"
            ]
          },
          "metadata": {
            "tags": []
          },
          "execution_count": 23
        }
      ]
    },
    {
      "cell_type": "markdown",
      "metadata": {
        "id": "JPehRDOizoWP",
        "colab_type": "text"
      },
      "source": [
        "* Concatenate list with + operator.\n",
        "* In place extension with += operator or **extent()** method.\n",
        "* These method works with any iterable series.\n",
        "* list can be sort using **sort()** method.\n",
        "* list can be revered using **reverse()** method."
      ]
    },
    {
      "cell_type": "code",
      "metadata": {
        "id": "xp-proK4Gmuf",
        "colab_type": "code",
        "outputId": "81fad664-dc57-421f-bf9a-bbe4efb445ad",
        "colab": {
          "base_uri": "https://localhost:8080/",
          "height": 34
        }
      },
      "source": [
        "m = [2,1,3]\n",
        "n = [4, 7, 11]\n",
        "k = m + n\n",
        "k"
      ],
      "execution_count": 0,
      "outputs": [
        {
          "output_type": "execute_result",
          "data": {
            "text/plain": [
              "[2, 1, 3, 4, 7, 11]"
            ]
          },
          "metadata": {
            "tags": []
          },
          "execution_count": 24
        }
      ]
    },
    {
      "cell_type": "code",
      "metadata": {
        "id": "vTQIbYEh0PT2",
        "colab_type": "code",
        "outputId": "d88bb336-b161-458b-c51f-07841187d901",
        "colab": {
          "base_uri": "https://localhost:8080/",
          "height": 34
        }
      },
      "source": [
        "k += [18, 29, 47]\n",
        "k"
      ],
      "execution_count": 0,
      "outputs": [
        {
          "output_type": "execute_result",
          "data": {
            "text/plain": [
              "[2, 1, 3, 4, 7, 11, 18, 29, 47]"
            ]
          },
          "metadata": {
            "tags": []
          },
          "execution_count": 25
        }
      ]
    },
    {
      "cell_type": "code",
      "metadata": {
        "id": "oNiWTUPx0cmB",
        "colab_type": "code",
        "outputId": "d8578fa6-94cb-413b-8be7-685b2ce67259",
        "colab": {
          "base_uri": "https://localhost:8080/",
          "height": 34
        }
      },
      "source": [
        "k.extend([99, 109, 222])\n",
        "k"
      ],
      "execution_count": 0,
      "outputs": [
        {
          "output_type": "execute_result",
          "data": {
            "text/plain": [
              "[2, 1, 3, 4, 7, 11, 18, 29, 47, 99, 109, 222]"
            ]
          },
          "metadata": {
            "tags": []
          },
          "execution_count": 26
        }
      ]
    },
    {
      "cell_type": "code",
      "metadata": {
        "id": "lXua8tSJ0vBD",
        "colab_type": "code",
        "outputId": "7aac4881-5b22-4a13-df55-33ed212d11e4",
        "colab": {
          "base_uri": "https://localhost:8080/",
          "height": 34
        }
      },
      "source": [
        "k.reverse() # reverses in place\n",
        "k"
      ],
      "execution_count": 0,
      "outputs": [
        {
          "output_type": "execute_result",
          "data": {
            "text/plain": [
              "[222, 109, 99, 47, 29, 18, 11, 7, 4, 3, 1, 2]"
            ]
          },
          "metadata": {
            "tags": []
          },
          "execution_count": 29
        }
      ]
    },
    {
      "cell_type": "code",
      "metadata": {
        "id": "4he5h0t01blq",
        "colab_type": "code",
        "outputId": "fcff977d-1591-4248-da3e-8ba56b1f188b",
        "colab": {
          "base_uri": "https://localhost:8080/",
          "height": 34
        }
      },
      "source": [
        "k.sort() #sort in place\n",
        "k"
      ],
      "execution_count": 0,
      "outputs": [
        {
          "output_type": "execute_result",
          "data": {
            "text/plain": [
              "[1, 2, 3, 4, 7, 11, 18, 29, 47, 99, 109, 222]"
            ]
          },
          "metadata": {
            "tags": []
          },
          "execution_count": 31
        }
      ]
    },
    {
      "cell_type": "code",
      "metadata": {
        "id": "We02hVY71rVY",
        "colab_type": "code",
        "outputId": "e9275404-b07a-42be-d050-27963b17951a",
        "colab": {
          "base_uri": "https://localhost:8080/",
          "height": 34
        }
      },
      "source": [
        "w"
      ],
      "execution_count": 0,
      "outputs": [
        {
          "output_type": "execute_result",
          "data": {
            "text/plain": [
              "['My', 'is', 'and', 'I', 'am', 'not', 'a', 'terrorist']"
            ]
          },
          "metadata": {
            "tags": []
          },
          "execution_count": 32
        }
      ]
    },
    {
      "cell_type": "code",
      "metadata": {
        "id": "rzJ16ZC42Ks8",
        "colab_type": "code",
        "outputId": "89f395dd-d270-4b9f-c471-5ac2c64d077e",
        "colab": {
          "base_uri": "https://localhost:8080/",
          "height": 34
        }
      },
      "source": [
        "w.sort(key=len) # sort the element considering the length of the string\n",
        "w"
      ],
      "execution_count": 0,
      "outputs": [
        {
          "output_type": "execute_result",
          "data": {
            "text/plain": [
              "['I', 'a', 'My', 'is', 'am', 'and', 'not', 'terrorist']"
            ]
          },
          "metadata": {
            "tags": []
          },
          "execution_count": 33
        }
      ]
    },
    {
      "cell_type": "markdown",
      "metadata": {
        "id": "NmG1yQay2sff",
        "colab_type": "text"
      },
      "source": [
        "* **sorted()** built-in function sorts any iterable series and return a list.\n",
        "* **reversed()** built-in function will reverse the list(or iterable series) and return the list."
      ]
    },
    {
      "cell_type": "code",
      "metadata": {
        "id": "NGC2bnHT2SeZ",
        "colab_type": "code",
        "outputId": "9eb48ae8-ccdc-42bd-ccf1-fabec0890af2",
        "colab": {
          "base_uri": "https://localhost:8080/",
          "height": 34
        }
      },
      "source": [
        "x = [4, 9, 2,1]\n",
        "y = sorted(x)\n",
        "y\n",
        "z = reversed(list(y))\n",
        "z"
      ],
      "execution_count": 0,
      "outputs": [
        {
          "output_type": "execute_result",
          "data": {
            "text/plain": [
              "<list_reverseiterator at 0x7f048077c4a8>"
            ]
          },
          "metadata": {
            "tags": []
          },
          "execution_count": 37
        }
      ]
    },
    {
      "cell_type": "markdown",
      "metadata": {
        "id": "kpT-q1-A3z9w",
        "colab_type": "text"
      },
      "source": [
        "## dist"
      ]
    },
    {
      "cell_type": "markdown",
      "metadata": {
        "id": "ySpQlA1o4FLz",
        "colab_type": "text"
      },
      "source": [
        "* keys must be immutable.\n",
        "* value can be mutable.\n",
        "* dict() constrctor accepts:\n",
        "    * Iterable series of key-value 2-tuple.\n",
        "    "
      ]
    },
    {
      "cell_type": "code",
      "metadata": {
        "id": "UCrhYSyM3VbF",
        "colab_type": "code",
        "outputId": "59370fa7-c3cc-4036-85c9-507341b6572b",
        "colab": {
          "base_uri": "https://localhost:8080/",
          "height": 34
        }
      },
      "source": [
        "names_and_age = [('Satya', 30),('Abhay', 32),('Ankur', 38),('Rachanana', 41),('Bhavana', 46)]\n",
        "d = dict(names_and_age)\n",
        "d"
      ],
      "execution_count": 0,
      "outputs": [
        {
          "output_type": "execute_result",
          "data": {
            "text/plain": [
              "{'Abhay': 32, 'Ankur': 38, 'Bhavana': 46, 'Rachanana': 41, 'Satya': 30}"
            ]
          },
          "metadata": {
            "tags": []
          },
          "execution_count": 40
        }
      ]
    },
    {
      "cell_type": "code",
      "metadata": {
        "id": "EeM9zHW-3yfV",
        "colab_type": "code",
        "outputId": "5dea07e2-9f45-4fed-95b4-f9a64abbd83b",
        "colab": {
          "base_uri": "https://localhost:8080/",
          "height": 34
        }
      },
      "source": [
        "e = d.copy()\n",
        "e"
      ],
      "execution_count": 0,
      "outputs": [
        {
          "output_type": "execute_result",
          "data": {
            "text/plain": [
              "{'Abhay': 32, 'Ankur': 38, 'Bhavana': 46, 'Rachanana': 41, 'Satya': 30}"
            ]
          },
          "metadata": {
            "tags": []
          },
          "execution_count": 41
        }
      ]
    },
    {
      "cell_type": "code",
      "metadata": {
        "id": "RHuQdIO_KcMo",
        "colab_type": "code",
        "outputId": "f07c133e-42df-446c-a771-8a41c8e6e545",
        "colab": {
          "base_uri": "https://localhost:8080/",
          "height": 34
        }
      },
      "source": [
        "e is d"
      ],
      "execution_count": 0,
      "outputs": [
        {
          "output_type": "execute_result",
          "data": {
            "text/plain": [
              "False"
            ]
          },
          "metadata": {
            "tags": []
          },
          "execution_count": 42
        }
      ]
    },
    {
      "cell_type": "markdown",
      "metadata": {
        "id": "ZBDuPQVRLNGA",
        "colab_type": "text"
      },
      "source": [
        "* Extend the dictionary with **update()**.\n",
        "* Update replaces values corresponding to duplicate keys.\n",
        "* Use **values()** for an itearble view onto the series of values.\n",
        "* use **item()** for an itearble view onto the series of key-value tuple.\n",
        "* Use with tuple unpacking.\n",
        "* **del d[key]** to remove the element."
      ]
    },
    {
      "cell_type": "code",
      "metadata": {
        "id": "kT6eU_QFKebB",
        "colab_type": "code",
        "outputId": "4d093d42-5ca0-4e12-be3f-317b3c2b67d6",
        "colab": {
          "base_uri": "https://localhost:8080/",
          "height": 101
        }
      },
      "source": [
        "for values in d.values():\n",
        "  print(values)"
      ],
      "execution_count": 0,
      "outputs": [
        {
          "output_type": "stream",
          "text": [
            "30\n",
            "32\n",
            "38\n",
            "41\n",
            "46\n"
          ],
          "name": "stdout"
        }
      ]
    },
    {
      "cell_type": "code",
      "metadata": {
        "id": "noI0qaXSMKHC",
        "colab_type": "code",
        "outputId": "ef25f384-00e5-40e2-8496-eb8d2ba3c333",
        "colab": {
          "base_uri": "https://localhost:8080/",
          "height": 101
        }
      },
      "source": [
        "for keys in d.keys():\n",
        "  print(keys)"
      ],
      "execution_count": 0,
      "outputs": [
        {
          "output_type": "stream",
          "text": [
            "Satya\n",
            "Abhay\n",
            "Ankur\n",
            "Rachanana\n",
            "Bhavana\n"
          ],
          "name": "stdout"
        }
      ]
    },
    {
      "cell_type": "code",
      "metadata": {
        "id": "cqr7pg9zMX4j",
        "colab_type": "code",
        "outputId": "9f0e4216-199c-4e97-d0ac-0e0b1d2366cd",
        "colab": {
          "base_uri": "https://localhost:8080/",
          "height": 101
        }
      },
      "source": [
        "for key, value in d.items():\n",
        "  print('{key} => {value}'.format(key = key , value = value))"
      ],
      "execution_count": 0,
      "outputs": [
        {
          "output_type": "stream",
          "text": [
            "Satya => 30\n",
            "Abhay => 32\n",
            "Ankur => 38\n",
            "Rachanana => 41\n",
            "Bhavana => 46\n"
          ],
          "name": "stdout"
        }
      ]
    },
    {
      "cell_type": "markdown",
      "metadata": {
        "id": "cFh-h55bOENv",
        "colab_type": "text"
      },
      "source": [
        "# set"
      ]
    },
    {
      "cell_type": "markdown",
      "metadata": {
        "id": "Zatjm4S1OL9Z",
        "colab_type": "text"
      },
      "source": [
        "* delimited by {}.\n",
        "* single comma seperated items\n",
        "* empty {} makes a dict, so for empty set use set() constructor.\n",
        "* Set constructor accepts :\n",
        "  * iterable series of values.\n",
        "  * duplicates are discard.\n",
        "  * Often used specifically to remove duplicates not order preserving.\n",
        "* **add(item)** insert a single element.\n",
        "* for multiple element to add use **update(item)** passing any iterable series.\n",
        "* **remove(item)** requires that item is present , otherwise raises **KeyError**.\n",
        "* **discard(item)** always succeeds."
      ]
    },
    {
      "cell_type": "code",
      "metadata": {
        "id": "iTCA4o17M6lb",
        "colab_type": "code",
        "outputId": "cb83136c-76df-4397-ff8c-5e1bf0a393a4",
        "colab": {
          "base_uri": "https://localhost:8080/",
          "height": 34
        }
      },
      "source": [
        "p = {2 , 45, 98, 74, 22}\n",
        "type(p)"
      ],
      "execution_count": 0,
      "outputs": [
        {
          "output_type": "execute_result",
          "data": {
            "text/plain": [
              "set"
            ]
          },
          "metadata": {
            "tags": []
          },
          "execution_count": 46
        }
      ]
    },
    {
      "cell_type": "code",
      "metadata": {
        "id": "DCcE0H6-Op3b",
        "colab_type": "code",
        "outputId": "2b856c3e-909f-4dbd-8aa0-174785d9a5cc",
        "colab": {
          "base_uri": "https://localhost:8080/",
          "height": 34
        }
      },
      "source": [
        "p.add(55)\n",
        "p"
      ],
      "execution_count": 0,
      "outputs": [
        {
          "output_type": "execute_result",
          "data": {
            "text/plain": [
              "{2, 22, 45, 55, 74, 98}"
            ]
          },
          "metadata": {
            "tags": []
          },
          "execution_count": 47
        }
      ]
    },
    {
      "cell_type": "code",
      "metadata": {
        "id": "qOst08UaPWvf",
        "colab_type": "code",
        "outputId": "af3fcfde-0052-4fbd-ab55-63ec56f41f83",
        "colab": {
          "base_uri": "https://localhost:8080/",
          "height": 34
        }
      },
      "source": [
        "d = [54, 100,19,200]\n",
        "p.update(d)\n",
        "p"
      ],
      "execution_count": 0,
      "outputs": [
        {
          "output_type": "execute_result",
          "data": {
            "text/plain": [
              "{2, 19, 22, 45, 54, 55, 74, 98, 100, 200}"
            ]
          },
          "metadata": {
            "tags": []
          },
          "execution_count": 48
        }
      ]
    },
    {
      "cell_type": "markdown",
      "metadata": {
        "id": "1Ze_gkAFroh-",
        "colab_type": "text"
      },
      "source": [
        "**Tuples are immutable sequence types**\n",
        "\n",
        "**Strings are immutable sequence types of Unicode codepoints.**\n",
        "\n",
        "\n"
      ]
    },
    {
      "cell_type": "code",
      "metadata": {
        "id": "3cd-cbsCQAAB",
        "colab_type": "code",
        "colab": {}
      },
      "source": [
        ""
      ],
      "execution_count": 0,
      "outputs": []
    }
  ]
}