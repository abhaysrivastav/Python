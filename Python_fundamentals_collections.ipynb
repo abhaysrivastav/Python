{
  "nbformat": 4,
  "nbformat_minor": 0,
  "metadata": {
    "colab": {
      "name": "Python_fundamentals_collections.ipynb",
      "provenance": [],
      "collapsed_sections": [],
      "include_colab_link": true
    },
    "kernelspec": {
      "name": "python3",
      "display_name": "Python 3"
    }
  },
  "cells": [
    {
      "cell_type": "markdown",
      "metadata": {
        "id": "view-in-github",
        "colab_type": "text"
      },
      "source": [
        "<a href=\"https://colab.research.google.com/github/abhaysrivastav/Python/blob/master/Python_fundamentals_collections.ipynb\" target=\"_parent\"><img src=\"https://colab.research.google.com/assets/colab-badge.svg\" alt=\"Open In Colab\"/></a>"
      ]
    },
    {
      "cell_type": "code",
      "metadata": {
        "id": "yXu53efhgzNr",
        "colab_type": "code",
        "colab": {
          "base_uri": "https://localhost:8080/",
          "height": 34
        },
        "outputId": "74abacae-92c1-4ec7-8144-7ba6ef10ae41"
      },
      "source": [
        "list(range(5, 10))"
      ],
      "execution_count": 2,
      "outputs": [
        {
          "output_type": "execute_result",
          "data": {
            "text/plain": [
              "[5, 6, 7, 8, 9]"
            ]
          },
          "metadata": {
            "tags": []
          },
          "execution_count": 2
        }
      ]
    },
    {
      "cell_type": "code",
      "metadata": {
        "id": "r0pnkbYwiY1A",
        "colab_type": "code",
        "colab": {
          "base_uri": "https://localhost:8080/",
          "height": 34
        },
        "outputId": "73fb23ba-3bd6-4eba-8587-ca297f7ba260"
      },
      "source": [
        "list(range(0, 10, 2))"
      ],
      "execution_count": 3,
      "outputs": [
        {
          "output_type": "execute_result",
          "data": {
            "text/plain": [
              "[0, 2, 4, 6, 8]"
            ]
          },
          "metadata": {
            "tags": []
          },
          "execution_count": 3
        }
      ]
    },
    {
      "cell_type": "code",
      "metadata": {
        "id": "7ZE8qM68jkBf",
        "colab_type": "code",
        "colab": {}
      },
      "source": [
        ""
      ],
      "execution_count": 0,
      "outputs": []
    },
    {
      "cell_type": "markdown",
      "metadata": {
        "id": "P4GISTXZkArh",
        "colab_type": "text"
      },
      "source": [
        "### Not using the range use enumerate\n",
        "  > Prefer enumerate() for counters.\n",
        "  >\n",
        "  > enumerate() yields (index, value) tuple"
      ]
    },
    {
      "cell_type": "code",
      "metadata": {
        "id": "Ll0hZ9KuixA1",
        "colab_type": "code",
        "colab": {
          "base_uri": "https://localhost:8080/",
          "height": 101
        },
        "outputId": "f1415f46-c70b-42bb-fd12-b345497d2d7e"
      },
      "source": [
        "t = [9, 372, 882, 148800, 2096886]\n",
        "for p in enumerate(t):\n",
        "  print(p)"
      ],
      "execution_count": 5,
      "outputs": [
        {
          "output_type": "stream",
          "text": [
            "(0, 9)\n",
            "(1, 372)\n",
            "(2, 882)\n",
            "(3, 148800)\n",
            "(4, 2096886)\n"
          ],
          "name": "stdout"
        }
      ]
    },
    {
      "cell_type": "code",
      "metadata": {
        "id": "ULNt5jrTkoR5",
        "colab_type": "code",
        "colab": {
          "base_uri": "https://localhost:8080/",
          "height": 101
        },
        "outputId": "52285892-e504-47a6-d056-3bdabd936d17"
      },
      "source": [
        "for i , v in enumerate(t):\n",
        "  print(\"i = {}, y = {}\".format(i, v))"
      ],
      "execution_count": 7,
      "outputs": [
        {
          "output_type": "stream",
          "text": [
            "i = 0, y = 9\n",
            "i = 1, y = 372\n",
            "i = 2, y = 882\n",
            "i = 3, y = 148800\n",
            "i = 4, y = 2096886\n"
          ],
          "name": "stdout"
        }
      ]
    },
    {
      "cell_type": "code",
      "metadata": {
        "id": "1ElIuFWTk7y4",
        "colab_type": "code",
        "colab": {}
      },
      "source": [
        ""
      ],
      "execution_count": 0,
      "outputs": []
    },
    {
      "cell_type": "markdown",
      "metadata": {
        "id": "9A7yy_tol2Hg",
        "colab_type": "text"
      },
      "source": [
        "# list:\n",
        "heterogenous mutable sequence"
      ]
    },
    {
      "cell_type": "code",
      "metadata": {
        "id": "AFVWVHrgly-T",
        "colab_type": "code",
        "colab": {
          "base_uri": "https://localhost:8080/",
          "height": 34
        },
        "outputId": "8af9fd73-2338-44f3-d0cb-8c53279bcfa7"
      },
      "source": [
        "s = \"Show how to index into sequence\".split()\n",
        "s"
      ],
      "execution_count": 18,
      "outputs": [
        {
          "output_type": "execute_result",
          "data": {
            "text/plain": [
              "['Show', 'how', 'to', 'index', 'into', 'sequence']"
            ]
          },
          "metadata": {
            "tags": []
          },
          "execution_count": 18
        }
      ]
    },
    {
      "cell_type": "markdown",
      "metadata": {
        "id": "R0iwTpSjma6B",
        "colab_type": "text"
      },
      "source": [
        "* Negative integers index from the end\n",
        "* The last element is the index -1\n",
        "* Avoid seq[len(seq)-1]\n",
        "* Slicing extract part of list.\n",
        "* slice = seq[start:stop].\n",
        "* Omitting the start index slices from the beginning.\n"
      ]
    },
    {
      "cell_type": "code",
      "metadata": {
        "id": "RYJIEVI60Nms",
        "colab_type": "code",
        "colab": {
          "base_uri": "https://localhost:8080/",
          "height": 34
        },
        "outputId": "f03b44ab-09e2-4653-f912-9006b98c3703"
      },
      "source": [
        "s[4]"
      ],
      "execution_count": 19,
      "outputs": [
        {
          "output_type": "execute_result",
          "data": {
            "text/plain": [
              "'into'"
            ]
          },
          "metadata": {
            "tags": []
          },
          "execution_count": 19
        }
      ]
    },
    {
      "cell_type": "code",
      "metadata": {
        "id": "ACoCgvSt0Vhm",
        "colab_type": "code",
        "colab": {
          "base_uri": "https://localhost:8080/",
          "height": 34
        },
        "outputId": "31e12a7d-1c5d-4b97-d230-a12a624c3e11"
      },
      "source": [
        "s[:3]"
      ],
      "execution_count": 20,
      "outputs": [
        {
          "output_type": "execute_result",
          "data": {
            "text/plain": [
              "['Show', 'how', 'to']"
            ]
          },
          "metadata": {
            "tags": []
          },
          "execution_count": 20
        }
      ]
    },
    {
      "cell_type": "code",
      "metadata": {
        "id": "FDacenfs1fXB",
        "colab_type": "code",
        "colab": {
          "base_uri": "https://localhost:8080/",
          "height": 34
        },
        "outputId": "745d8f23-b770-4ac6-d542-dd26585dc070"
      },
      "source": [
        "s[3:]"
      ],
      "execution_count": 21,
      "outputs": [
        {
          "output_type": "execute_result",
          "data": {
            "text/plain": [
              "['index', 'into', 'sequence']"
            ]
          },
          "metadata": {
            "tags": []
          },
          "execution_count": 21
        }
      ]
    },
    {
      "cell_type": "code",
      "metadata": {
        "id": "D4rLlM4m1in3",
        "colab_type": "code",
        "colab": {
          "base_uri": "https://localhost:8080/",
          "height": 34
        },
        "outputId": "b99862e5-3d5a-4638-9935-3721cf86afe3"
      },
      "source": [
        "full_slic = s[:] # important idiom for coping the list\n",
        "full_slic"
      ],
      "execution_count": 25,
      "outputs": [
        {
          "output_type": "execute_result",
          "data": {
            "text/plain": [
              "['Show', 'how', 'to', 'index', 'into', 'sequence']"
            ]
          },
          "metadata": {
            "tags": []
          },
          "execution_count": 25
        }
      ]
    },
    {
      "cell_type": "code",
      "metadata": {
        "id": "7cpoPZW34mkz",
        "colab_type": "code",
        "colab": {}
      },
      "source": [
        "u = s.copy()"
      ],
      "execution_count": 0,
      "outputs": []
    },
    {
      "cell_type": "code",
      "metadata": {
        "id": "Poermnal5DXJ",
        "colab_type": "code",
        "colab": {
          "base_uri": "https://localhost:8080/",
          "height": 34
        },
        "outputId": "0f67e85d-908b-469f-b629-3efe925b6ace"
      },
      "source": [
        "u is s"
      ],
      "execution_count": 27,
      "outputs": [
        {
          "output_type": "execute_result",
          "data": {
            "text/plain": [
              "False"
            ]
          },
          "metadata": {
            "tags": []
          },
          "execution_count": 27
        }
      ]
    },
    {
      "cell_type": "markdown",
      "metadata": {
        "id": "GSEZqou0C6G7",
        "colab_type": "text"
      },
      "source": [
        ""
      ]
    },
    {
      "cell_type": "markdown",
      "metadata": {
        "id": "onBifQYl5cn9",
        "colab_type": "text"
      },
      "source": [
        "* Copies are shallow.\n",
        "* Repeat the list using the * opereator.\n"
      ]
    },
    {
      "cell_type": "markdown",
      "metadata": {
        "id": "uaIKtH5ZDlM3",
        "colab_type": "text"
      },
      "source": [
        "* Repetition is shallow"
      ]
    },
    {
      "cell_type": "code",
      "metadata": {
        "id": "6Tx84_XE5fSZ",
        "colab_type": "code",
        "colab": {
          "base_uri": "https://localhost:8080/",
          "height": 34
        },
        "outputId": "f0f1124b-832b-4779-e810-8e3020ba8d91"
      },
      "source": [
        "c = [21, 37]\n",
        "d = c*4\n",
        "d"
      ],
      "execution_count": 28,
      "outputs": [
        {
          "output_type": "execute_result",
          "data": {
            "text/plain": [
              "[21, 37, 21, 37, 21, 37, 21, 37]"
            ]
          },
          "metadata": {
            "tags": []
          },
          "execution_count": 28
        }
      ]
    },
    {
      "cell_type": "markdown",
      "metadata": {
        "id": "P0TlQxOUEJru",
        "colab_type": "text"
      },
      "source": [
        " * **index(item)** returns the integer index of the first equivalent element raises\n",
        " * **ValueError** if not found\n",
        " * **count(item)** returns the no of matching elements.\n",
        " * **in** and **not in** operate test for membership."
      ]
    },
    {
      "cell_type": "code",
      "metadata": {
        "id": "ff1kkZiQDOZL",
        "colab_type": "code",
        "colab": {
          "base_uri": "https://localhost:8080/",
          "height": 34
        },
        "outputId": "120d801d-50be-4b4d-aa49-7e78d4c57147"
      },
      "source": [
        "w = \"My name is khan and I am not a terrorist\".split()\n",
        "w"
      ],
      "execution_count": 29,
      "outputs": [
        {
          "output_type": "execute_result",
          "data": {
            "text/plain": [
              "['My', 'name', 'is', 'khan', 'and', 'I', 'am', 'not', 'a', 'terrorist']"
            ]
          },
          "metadata": {
            "tags": []
          },
          "execution_count": 29
        }
      ]
    },
    {
      "cell_type": "code",
      "metadata": {
        "id": "nnQ01QLaEdMp",
        "colab_type": "code",
        "colab": {
          "base_uri": "https://localhost:8080/",
          "height": 34
        },
        "outputId": "38e0597c-7588-4ed0-e72d-bae66d0172b6"
      },
      "source": [
        "w.index(\"khan\")"
      ],
      "execution_count": 30,
      "outputs": [
        {
          "output_type": "execute_result",
          "data": {
            "text/plain": [
              "3"
            ]
          },
          "metadata": {
            "tags": []
          },
          "execution_count": 30
        }
      ]
    },
    {
      "cell_type": "code",
      "metadata": {
        "id": "Lsovzq0mEiMv",
        "colab_type": "code",
        "colab": {
          "base_uri": "https://localhost:8080/",
          "height": 34
        },
        "outputId": "6be6e267-7d97-4de3-8bf6-05330a264297"
      },
      "source": [
        "w[3]"
      ],
      "execution_count": 31,
      "outputs": [
        {
          "output_type": "execute_result",
          "data": {
            "text/plain": [
              "'khan'"
            ]
          },
          "metadata": {
            "tags": []
          },
          "execution_count": 31
        }
      ]
    },
    {
      "cell_type": "markdown",
      "metadata": {
        "id": "gDyT128NEsf6",
        "colab_type": "text"
      },
      "source": [
        ""
      ]
    },
    {
      "cell_type": "code",
      "metadata": {
        "id": "uzDG4qHSEmG_",
        "colab_type": "code",
        "colab": {
          "base_uri": "https://localhost:8080/",
          "height": 34
        },
        "outputId": "45e2082f-c371-44dd-9c9a-2c8b30d89055"
      },
      "source": [
        "w.count('am')"
      ],
      "execution_count": 32,
      "outputs": [
        {
          "output_type": "execute_result",
          "data": {
            "text/plain": [
              "1"
            ]
          },
          "metadata": {
            "tags": []
          },
          "execution_count": 32
        }
      ]
    },
    {
      "cell_type": "code",
      "metadata": {
        "id": "lYlkMdWWF1mm",
        "colab_type": "code",
        "colab": {
          "base_uri": "https://localhost:8080/",
          "height": 34
        },
        "outputId": "bd05ff72-18d0-4f96-bc50-11eb08d96f8e"
      },
      "source": [
        "'khan' in w"
      ],
      "execution_count": 33,
      "outputs": [
        {
          "output_type": "execute_result",
          "data": {
            "text/plain": [
              "True"
            ]
          },
          "metadata": {
            "tags": []
          },
          "execution_count": 33
        }
      ]
    },
    {
      "cell_type": "code",
      "metadata": {
        "id": "jHFYgtUiGL8x",
        "colab_type": "code",
        "colab": {
          "base_uri": "https://localhost:8080/",
          "height": 34
        },
        "outputId": "02af9a66-4e01-4f86-be10-8e8263718e5b"
      },
      "source": [
        "'Abhay' not in w"
      ],
      "execution_count": 34,
      "outputs": [
        {
          "output_type": "execute_result",
          "data": {
            "text/plain": [
              "True"
            ]
          },
          "metadata": {
            "tags": []
          },
          "execution_count": 34
        }
      ]
    },
    {
      "cell_type": "code",
      "metadata": {
        "id": "ViSLgeRwGPce",
        "colab_type": "code",
        "colab": {}
      },
      "source": [
        "del w[3]"
      ],
      "execution_count": 0,
      "outputs": []
    },
    {
      "cell_type": "code",
      "metadata": {
        "id": "ligmQAdLGbbG",
        "colab_type": "code",
        "colab": {
          "base_uri": "https://localhost:8080/",
          "height": 34
        },
        "outputId": "bad7ac84-041f-4dcb-fdde-fb34a8daff27"
      },
      "source": [
        "w"
      ],
      "execution_count": 36,
      "outputs": [
        {
          "output_type": "execute_result",
          "data": {
            "text/plain": [
              "['My', 'name', 'is', 'and', 'I', 'am', 'not', 'a', 'terrorist']"
            ]
          },
          "metadata": {
            "tags": []
          },
          "execution_count": 36
        }
      ]
    },
    {
      "cell_type": "code",
      "metadata": {
        "id": "K-Jwa38HGcXn",
        "colab_type": "code",
        "colab": {}
      },
      "source": [
        "w.remove('name')"
      ],
      "execution_count": 0,
      "outputs": []
    },
    {
      "cell_type": "code",
      "metadata": {
        "id": "6QYTbkjJGl8X",
        "colab_type": "code",
        "colab": {
          "base_uri": "https://localhost:8080/",
          "height": 34
        },
        "outputId": "5c0010a0-9d91-4363-d187-98bb5ca8e0af"
      },
      "source": [
        "w"
      ],
      "execution_count": 38,
      "outputs": [
        {
          "output_type": "execute_result",
          "data": {
            "text/plain": [
              "['My', 'is', 'and', 'I', 'am', 'not', 'a', 'terrorist']"
            ]
          },
          "metadata": {
            "tags": []
          },
          "execution_count": 38
        }
      ]
    },
    {
      "cell_type": "code",
      "metadata": {
        "id": "xp-proK4Gmuf",
        "colab_type": "code",
        "colab": {}
      },
      "source": [
        ""
      ],
      "execution_count": 0,
      "outputs": []
    }
  ]
}