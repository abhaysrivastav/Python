{
  "nbformat": 4,
  "nbformat_minor": 0,
  "metadata": {
    "colab": {
      "name": "Python_fundamentals_collections.ipynb",
      "provenance": [],
      "include_colab_link": true
    },
    "kernelspec": {
      "name": "python3",
      "display_name": "Python 3"
    }
  },
  "cells": [
    {
      "cell_type": "markdown",
      "metadata": {
        "id": "view-in-github",
        "colab_type": "text"
      },
      "source": [
        "<a href=\"https://colab.research.google.com/github/abhaysrivastav/Python/blob/master/Python_fundamentals_collections.ipynb\" target=\"_parent\"><img src=\"https://colab.research.google.com/assets/colab-badge.svg\" alt=\"Open In Colab\"/></a>"
      ]
    },
    {
      "cell_type": "code",
      "metadata": {
        "id": "yXu53efhgzNr",
        "colab_type": "code",
        "colab": {
          "base_uri": "https://localhost:8080/",
          "height": 34
        },
        "outputId": "74abacae-92c1-4ec7-8144-7ba6ef10ae41"
      },
      "source": [
        "list(range(5, 10))"
      ],
      "execution_count": 2,
      "outputs": [
        {
          "output_type": "execute_result",
          "data": {
            "text/plain": [
              "[5, 6, 7, 8, 9]"
            ]
          },
          "metadata": {
            "tags": []
          },
          "execution_count": 2
        }
      ]
    },
    {
      "cell_type": "code",
      "metadata": {
        "id": "r0pnkbYwiY1A",
        "colab_type": "code",
        "colab": {
          "base_uri": "https://localhost:8080/",
          "height": 34
        },
        "outputId": "73fb23ba-3bd6-4eba-8587-ca297f7ba260"
      },
      "source": [
        "list(range(0, 10, 2))"
      ],
      "execution_count": 3,
      "outputs": [
        {
          "output_type": "execute_result",
          "data": {
            "text/plain": [
              "[0, 2, 4, 6, 8]"
            ]
          },
          "metadata": {
            "tags": []
          },
          "execution_count": 3
        }
      ]
    },
    {
      "cell_type": "code",
      "metadata": {
        "id": "7ZE8qM68jkBf",
        "colab_type": "code",
        "colab": {}
      },
      "source": [
        ""
      ],
      "execution_count": 0,
      "outputs": []
    },
    {
      "cell_type": "markdown",
      "metadata": {
        "id": "P4GISTXZkArh",
        "colab_type": "text"
      },
      "source": [
        "### Not using the range use enumerate\n",
        "  > Prefer enumerate() for counters.\n",
        "  >\n",
        "  > enumerate() yields (index, value) tuple"
      ]
    },
    {
      "cell_type": "code",
      "metadata": {
        "id": "Ll0hZ9KuixA1",
        "colab_type": "code",
        "colab": {
          "base_uri": "https://localhost:8080/",
          "height": 101
        },
        "outputId": "f1415f46-c70b-42bb-fd12-b345497d2d7e"
      },
      "source": [
        "t = [9, 372, 882, 148800, 2096886]\n",
        "for p in enumerate(t):\n",
        "  print(p)"
      ],
      "execution_count": 5,
      "outputs": [
        {
          "output_type": "stream",
          "text": [
            "(0, 9)\n",
            "(1, 372)\n",
            "(2, 882)\n",
            "(3, 148800)\n",
            "(4, 2096886)\n"
          ],
          "name": "stdout"
        }
      ]
    },
    {
      "cell_type": "code",
      "metadata": {
        "id": "ULNt5jrTkoR5",
        "colab_type": "code",
        "colab": {
          "base_uri": "https://localhost:8080/",
          "height": 101
        },
        "outputId": "52285892-e504-47a6-d056-3bdabd936d17"
      },
      "source": [
        "for i , v in enumerate(t):\n",
        "  print(\"i = {}, y = {}\".format(i, v))"
      ],
      "execution_count": 7,
      "outputs": [
        {
          "output_type": "stream",
          "text": [
            "i = 0, y = 9\n",
            "i = 1, y = 372\n",
            "i = 2, y = 882\n",
            "i = 3, y = 148800\n",
            "i = 4, y = 2096886\n"
          ],
          "name": "stdout"
        }
      ]
    },
    {
      "cell_type": "code",
      "metadata": {
        "id": "1ElIuFWTk7y4",
        "colab_type": "code",
        "colab": {}
      },
      "source": [
        ""
      ],
      "execution_count": 0,
      "outputs": []
    }
  ]
}